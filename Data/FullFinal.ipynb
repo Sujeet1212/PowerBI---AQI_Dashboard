{
 "cells": [
  {
   "cell_type": "code",
   "execution_count": 15,
   "id": "f3642a53",
   "metadata": {},
   "outputs": [],
   "source": [
    "import numpy as np\n",
    "import pandas as pd\n",
    "from pandas_profiling import ProfileReport"
   ]
  },
  {
   "cell_type": "code",
   "execution_count": null,
   "id": "0bd628a4",
   "metadata": {},
   "outputs": [],
   "source": [
    "AIRQI = pd.read_excel(\"C:/Users/sujee/Desktop/DV Project/DV_Data_Final miss val rem.xlsx\")"
   ]
  },
  {
   "cell_type": "code",
   "execution_count": null,
   "id": "70591c7a",
   "metadata": {},
   "outputs": [],
   "source": [
    "AIRQI.columns"
   ]
  },
  {
   "cell_type": "code",
   "execution_count": null,
   "id": "b9dca4f5",
   "metadata": {},
   "outputs": [],
   "source": [
    "profile =ProfileReport(AIRQI, title='DV_Data_Final miss val rem' , explorative=True)"
   ]
  },
  {
   "cell_type": "code",
   "execution_count": null,
   "id": "628e84d9",
   "metadata": {
    "scrolled": false
   },
   "outputs": [],
   "source": [
    "profile.to_widgets()"
   ]
  },
  {
   "cell_type": "code",
   "execution_count": null,
   "id": "e716ea12",
   "metadata": {},
   "outputs": [],
   "source": []
  },
  {
   "cell_type": "code",
   "execution_count": null,
   "id": "38f48d7a",
   "metadata": {},
   "outputs": [],
   "source": []
  },
  {
   "cell_type": "code",
   "execution_count": null,
   "id": "eade3fd7",
   "metadata": {},
   "outputs": [],
   "source": []
  }
 ],
 "metadata": {
  "kernelspec": {
   "display_name": "Python 3 (ipykernel)",
   "language": "python",
   "name": "python3"
  },
  "language_info": {
   "codemirror_mode": {
    "name": "ipython",
    "version": 3
   },
   "file_extension": ".py",
   "mimetype": "text/x-python",
   "name": "python",
   "nbconvert_exporter": "python",
   "pygments_lexer": "ipython3",
   "version": "3.9.12"
  }
 },
 "nbformat": 4,
 "nbformat_minor": 5
}
